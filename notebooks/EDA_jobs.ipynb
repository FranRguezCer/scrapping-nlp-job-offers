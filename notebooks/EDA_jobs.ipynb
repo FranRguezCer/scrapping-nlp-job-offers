{
 "cells": [
  {
   "cell_type": "markdown",
   "metadata": {},
   "source": [
    "# 📊 Data Roles - Job Offers Analysis (EDA)\n",
    "\n",
    "This notebook presents a data-driven analysis of 150 job offers in Spain related to **data roles**  \n",
    "(*Data Analyst, Data Scientist, Data Engineer*, etc.), collected through web scraping from [Tecnoempleo](https://www.tecnoempleo.com).\n",
    "\n",
    "We focus on extracting structured information from unstructured job descriptions, with the goal of understanding:\n",
    "\n",
    "- Which **technical skills** and **soft skills** are most in demand.\n",
    "- The prevalence of **remote, hybrid, or on-site work**.\n",
    "- How traditional **keyword matching** compares to **rule-based NLP** using `spaCy`.\n",
    "\n",
    "This analysis provides valuable insights for aspiring **data professionals** exploring the current job market in 2025.\n",
    "\n",
    "---\n",
    "\n",
    "## 🗂️ Table of Contents\n",
    "\n",
    "1. [Dataset Loading & Initial Overview](#section1)  \n",
    "2. [Column Pruning & Description Focus](#section2)  \n",
    "3. [Keyword Definitions](#section3)  \n",
    "4. [Keyword Extraction from Descriptions](#section4)  \n",
    "5. [Exploratory Data Insights](#section5)  \n",
    "    5.1 [Most In-Demand Tech Skills](#section5.1)  \n",
    "    5.2 [Job Offers by Work Mode](#section5.2)  \n",
    "    5.3 [Comparing Tech Skills in Remote vs Hybrid Roles](#section5.3)  \n",
    "    5.4 [Most In-Demand Soft Skills](#section5.4)  \n",
    "    5.5 [Limitations & Disclaimer](#section5.5)\n",
    "6. [NLP-Based Skill Extraction with spaCy](#section6)  \n",
    "    6.1 [Strategy: Rule-based NLP with spaCy](#section6.1)  \n",
    "    6.2 [Work Mode Extraction (NLP based)](#section6.2)  \n",
    "    6.3 [Technical Skills Extraction (NLP based)](#section6.3)  \n",
    "    6.4 [Soft Skills Extraction (NLP based)](#section6.4)  \n",
    "7. [Conclusions](#section7)"
   ]
  },
  {
   "cell_type": "markdown",
   "metadata": {},
   "source": [
    "---"
   ]
  },
  {
   "cell_type": "markdown",
   "metadata": {},
   "source": [
    "## 🪨 1. Dataset Loading & Initial Overview <a id=\"section1\"></a>\n",
    "\n",
    "We load the enriched dataset with job descriptions and begin by inspecting its structure.\n",
    "\n",
    "The initial inspection reveals that while the dataset has rich text content in the `Description` field, many other structured metadata columns contain a large number of missing values.\n"
   ]
  },
  {
   "cell_type": "code",
   "execution_count": 126,
   "metadata": {},
   "outputs": [
    {
     "data": {
      "text/html": [
       "<div>\n",
       "<style scoped>\n",
       "    .dataframe tbody tr th:only-of-type {\n",
       "        vertical-align: middle;\n",
       "    }\n",
       "\n",
       "    .dataframe tbody tr th {\n",
       "        vertical-align: top;\n",
       "    }\n",
       "\n",
       "    .dataframe thead th {\n",
       "        text-align: right;\n",
       "    }\n",
       "</style>\n",
       "<table border=\"1\" class=\"dataframe\">\n",
       "  <thead>\n",
       "    <tr style=\"text-align: right;\">\n",
       "      <th></th>\n",
       "      <th>Title</th>\n",
       "      <th>Company</th>\n",
       "      <th>Location</th>\n",
       "      <th>Date Posted</th>\n",
       "      <th>Technologies</th>\n",
       "      <th>Experience</th>\n",
       "      <th>Contract Type</th>\n",
       "      <th>Job Type</th>\n",
       "      <th>Seniority</th>\n",
       "      <th>Description</th>\n",
       "      <th>URL</th>\n",
       "    </tr>\n",
       "  </thead>\n",
       "  <tbody>\n",
       "    <tr>\n",
       "      <th>0</th>\n",
       "      <td>Data Architect</td>\n",
       "      <td>Axiom Software Solutions</td>\n",
       "      <td>Yorkshire</td>\n",
       "      <td>Reino Unido</td>\n",
       "      <td>NaN</td>\n",
       "      <td>NaN</td>\n",
       "      <td>NaN</td>\n",
       "      <td>NaN</td>\n",
       "      <td>NaN</td>\n",
       "      <td>Descripción de la oferta de empleo\\t\\t\\t\\t\\t\\n...</td>\n",
       "      <td>https://www.tecnoempleo.com/data-architect-axi...</td>\n",
       "    </tr>\n",
       "    <tr>\n",
       "      <th>1</th>\n",
       "      <td>Solution Architect</td>\n",
       "      <td>Axiom Software Solutions</td>\n",
       "      <td>Bruselas</td>\n",
       "      <td>Bélgica</td>\n",
       "      <td>NaN</td>\n",
       "      <td>NaN</td>\n",
       "      <td>NaN</td>\n",
       "      <td>NaN</td>\n",
       "      <td>NaN</td>\n",
       "      <td>Descripción de la oferta de empleo\\t\\t\\t\\t\\t\\n...</td>\n",
       "      <td>https://www.tecnoempleo.com/solution-architect...</td>\n",
       "    </tr>\n",
       "    <tr>\n",
       "      <th>2</th>\n",
       "      <td>Data Analyst AWS</td>\n",
       "      <td>Digital Talent Agency</td>\n",
       "      <td>Barcelona</td>\n",
       "      <td>España</td>\n",
       "      <td>NaN</td>\n",
       "      <td>NaN</td>\n",
       "      <td>NaN</td>\n",
       "      <td>NaN</td>\n",
       "      <td>NaN</td>\n",
       "      <td>Descripción de la oferta de empleo\\t\\t\\t\\t\\t\\n...</td>\n",
       "      <td>https://www.tecnoempleo.com/data-analyst-aws-d...</td>\n",
       "    </tr>\n",
       "    <tr>\n",
       "      <th>3</th>\n",
       "      <td>Data Engineer AWS + Python</td>\n",
       "      <td>Serem</td>\n",
       "      <td>NaN</td>\n",
       "      <td>01/04/2025Actualizada</td>\n",
       "      <td>NaN</td>\n",
       "      <td>NaN</td>\n",
       "      <td>NaN</td>\n",
       "      <td>NaN</td>\n",
       "      <td>NaN</td>\n",
       "      <td>Descripción de la oferta de empleo\\t\\t\\t\\t\\t\\n...</td>\n",
       "      <td>https://www.tecnoempleo.com/data-engineer-aws-...</td>\n",
       "    </tr>\n",
       "    <tr>\n",
       "      <th>4</th>\n",
       "      <td>Programador/a Servicenow</td>\n",
       "      <td>Serem</td>\n",
       "      <td>NaN</td>\n",
       "      <td>01/04/2025Actualizada</td>\n",
       "      <td>NaN</td>\n",
       "      <td>NaN</td>\n",
       "      <td>NaN</td>\n",
       "      <td>NaN</td>\n",
       "      <td>NaN</td>\n",
       "      <td>Descripción de la oferta de empleo\\t\\t\\t\\t\\t\\n...</td>\n",
       "      <td>https://www.tecnoempleo.com/programador-servic...</td>\n",
       "    </tr>\n",
       "  </tbody>\n",
       "</table>\n",
       "</div>"
      ],
      "text/plain": [
       "                        Title                   Company   Location  \\\n",
       "0              Data Architect  Axiom Software Solutions  Yorkshire   \n",
       "1          Solution Architect  Axiom Software Solutions   Bruselas   \n",
       "2            Data Analyst AWS     Digital Talent Agency  Barcelona   \n",
       "3  Data Engineer AWS + Python                     Serem        NaN   \n",
       "4    Programador/a Servicenow                     Serem        NaN   \n",
       "\n",
       "             Date Posted  Technologies  Experience  Contract Type  Job Type  \\\n",
       "0            Reino Unido           NaN         NaN            NaN       NaN   \n",
       "1                Bélgica           NaN         NaN            NaN       NaN   \n",
       "2                 España           NaN         NaN            NaN       NaN   \n",
       "3  01/04/2025Actualizada           NaN         NaN            NaN       NaN   \n",
       "4  01/04/2025Actualizada           NaN         NaN            NaN       NaN   \n",
       "\n",
       "   Seniority                                        Description  \\\n",
       "0        NaN  Descripción de la oferta de empleo\\t\\t\\t\\t\\t\\n...   \n",
       "1        NaN  Descripción de la oferta de empleo\\t\\t\\t\\t\\t\\n...   \n",
       "2        NaN  Descripción de la oferta de empleo\\t\\t\\t\\t\\t\\n...   \n",
       "3        NaN  Descripción de la oferta de empleo\\t\\t\\t\\t\\t\\n...   \n",
       "4        NaN  Descripción de la oferta de empleo\\t\\t\\t\\t\\t\\n...   \n",
       "\n",
       "                                                 URL  \n",
       "0  https://www.tecnoempleo.com/data-architect-axi...  \n",
       "1  https://www.tecnoempleo.com/solution-architect...  \n",
       "2  https://www.tecnoempleo.com/data-analyst-aws-d...  \n",
       "3  https://www.tecnoempleo.com/data-engineer-aws-...  \n",
       "4  https://www.tecnoempleo.com/programador-servic...  "
      ]
     },
     "execution_count": 126,
     "metadata": {},
     "output_type": "execute_result"
    }
   ],
   "source": [
    "import pandas as pd\n",
    "\n",
    "\n",
    "df = pd.read_csv(\"../data/job_offers_detailed.csv\")\n",
    "df.head()"
   ]
  },
  {
   "cell_type": "code",
   "execution_count": 127,
   "metadata": {},
   "outputs": [
    {
     "name": "stdout",
     "output_type": "stream",
     "text": [
      "<class 'pandas.core.frame.DataFrame'>\n",
      "RangeIndex: 150 entries, 0 to 149\n",
      "Data columns (total 11 columns):\n",
      " #   Column         Non-Null Count  Dtype  \n",
      "---  ------         --------------  -----  \n",
      " 0   Title          150 non-null    object \n",
      " 1   Company        150 non-null    object \n",
      " 2   Location       53 non-null     object \n",
      " 3   Date Posted    150 non-null    object \n",
      " 4   Technologies   0 non-null      float64\n",
      " 5   Experience     0 non-null      float64\n",
      " 6   Contract Type  0 non-null      float64\n",
      " 7   Job Type       0 non-null      float64\n",
      " 8   Seniority      0 non-null      float64\n",
      " 9   Description    150 non-null    object \n",
      " 10  URL            150 non-null    object \n",
      "dtypes: float64(5), object(6)\n",
      "memory usage: 13.0+ KB\n"
     ]
    }
   ],
   "source": [
    "df.info()"
   ]
  },
  {
   "cell_type": "markdown",
   "metadata": {},
   "source": [
    "---"
   ]
  },
  {
   "cell_type": "markdown",
   "metadata": {},
   "source": [
    "## 💎 2. Column Pruning & Description Focus <a id=\"section2\"></a>\n",
    "\n",
    "The columns `Location`, `Experience`, `Contract Type`, and `Seniority` **were initially included as placeholders for potential future improvements**. Since they currently hold no meaningful data, we will remove them from the dataset.\n",
    "\n",
    "The `Date Posted` field also presents parsing inconsistencies, with many entries showing city or country names instead of valid dates. For this reason, it will also be excluded from the analysis.\n",
    "\n",
    "From this point forward, we will focus on extracting structured insights from the unstructured `Description` field, which contains the most valuable information about each job offer."
   ]
  },
  {
   "cell_type": "code",
   "execution_count": 128,
   "metadata": {},
   "outputs": [
    {
     "data": {
      "text/plain": [
       "Index(['Title', 'Company', 'Description', 'URL'], dtype='object')"
      ]
     },
     "execution_count": 128,
     "metadata": {},
     "output_type": "execute_result"
    }
   ],
   "source": [
    "df.drop(columns=[\n",
    "    \"Location\", \"Technologies\", \"Experience\",\n",
    "    \"Contract Type\", \"Job Type\", \"Seniority\",\n",
    "    \"Date Posted\"\n",
    "], inplace=True)\n",
    "\n",
    "# Checking\n",
    "df.columns"
   ]
  },
  {
   "cell_type": "markdown",
   "metadata": {},
   "source": [
    "---"
   ]
  },
  {
   "cell_type": "markdown",
   "metadata": {},
   "source": [
    "## 🖊️ 3. Keyword Definitions <a id=\"section3\"></a>\n",
    "\n",
    "We define three keyword lists to extract structured insights from unstructured job descriptions:\n",
    "\n",
    "- **Tech Skills**: programming languages, libraries, cloud tools, BI platforms, etc.\n",
    "- **Soft Skills**: interpersonal and behavioral traits in both English and Spanish.\n",
    "- **Work Mode**: terminology related to remote, hybrid, or onsite work.\n",
    "\n",
    "These lists are manually curated and bilingual to maximize coverage."
   ]
  },
  {
   "cell_type": "code",
   "execution_count": 129,
   "metadata": {},
   "outputs": [],
   "source": [
    "TECH_KEYWORDS = [\n",
    "    # Core languages\n",
    "    \"python\", \"r\", \"sql\", \"scala\", \"java\", \"bash\", \"shell\",\n",
    "\n",
    "    # BI & analytics tools\n",
    "    \"excel\", \"power bi\", \"tableau\", \"looker\", \"lookml\", \"superset\", \"qlik\", \"metabase\",\n",
    "\n",
    "    # Python libraries\n",
    "    \"pandas\", \"numpy\", \"scipy\", \"matplotlib\", \"seaborn\", \"scikit-learn\", \"statsmodels\",\n",
    "\n",
    "    # ML & deep learning\n",
    "    \"tensorflow\", \"pytorch\", \"keras\", \"xgboost\", \"lightgbm\", \"catboost\", \"mlflow\",\n",
    "\n",
    "    # Data engineering\n",
    "    \"spark\", \"hadoop\", \"airflow\", \"dbt\", \"kafka\", \"flink\", \"dagster\",\n",
    "\n",
    "    # Cloud & devops\n",
    "    \"aws\", \"gcp\", \"azure\", \"docker\", \"kubernetes\", \"terraform\", \"git\", \"databricks\"\n",
    "\n",
    "    # Databases\n",
    "    \"mysql\", \"postgresql\", \"mongodb\", \"snowflake\", \"bigquery\", \"redshift\", \"athena\",\n",
    "\n",
    "    # NLP & computer vision\n",
    "    \"nltk\", \"spacy\", \"opencv\", \"transformers\",\n",
    "\n",
    "    # MLOps & production\n",
    "    \"fastapi\", \"streamlit\", \"gradio\", \"flask\"\n",
    "]\n"
   ]
  },
  {
   "cell_type": "code",
   "execution_count": 130,
   "metadata": {},
   "outputs": [],
   "source": [
    "SOFT_SKILLS = [\n",
    "    # English\n",
    "    \"communication\", \"teamwork\", \"collaboration\", \"problem solving\", \"critical thinking\",\n",
    "    \"attention to detail\", \"creativity\", \"time management\", \"adaptability\", \"curiosity\",\n",
    "    \"analytical mindset\", \"initiative\", \"leadership\", \"autonomy\", \"self-motivation\",\n",
    "    \"accountability\", \"organization\", \"interpersonal skills\", \"stakeholder management\",\n",
    "    \"project management\", \"presentation skills\", \"fast learner\", \"proactive\", \"resilience\",\n",
    "    \"empathy\", \"business acumen\", \"strategic thinking\", \"open-minded\", \"agile mindset\",\n",
    "\n",
    "    # Spanish\n",
    "    \"comunicación\", \"trabajo en equipo\", \"colaboración\", \"resolución de problemas\",\n",
    "    \"pensamiento crítico\", \"atención al detalle\", \"creatividad\", \"gestión del tiempo\",\n",
    "    \"adaptabilidad\", \"curiosidad\", \"mentalidad analítica\", \"iniciativa\", \"liderazgo\",\n",
    "    \"autonomía\", \"motivación\", \"responsabilidad\", \"organización\", \"habilidades interpersonales\",\n",
    "    \"gestión de proyectos\", \"presentación\", \"aprendizaje rápido\", \"proactividad\", \"resiliencia\",\n",
    "    \"empatía\", \"visión de negocio\", \"pensamiento estratégico\", \"mente abierta\", \"mentalidad ágil\"\n",
    "]\n"
   ]
  },
  {
   "cell_type": "markdown",
   "metadata": {},
   "source": [
    "### Define and normalize work mode\n",
    "\n",
    "We standardize various expressions (in English and Spanish) that refer to the job's location model:\n",
    "- `\"Remote\"` for fully remote jobs\n",
    "- `\"Hybrid\"` for mixed models\n",
    "- `\"On Site\"` for office-based positions\n",
    "\n",
    "We map all variations to these three categories.\n"
   ]
  },
  {
   "cell_type": "code",
   "execution_count": 131,
   "metadata": {},
   "outputs": [],
   "source": [
    "WORK_MODE_MAP = {\n",
    "    # Remote\n",
    "    \"remote\": \"Remote\", \"remoto\": \"Remote\", \"100% remoto\": \"Remote\",\n",
    "    \"teletrabajo\": \"Remote\", \"work from home\": \"Remote\", \"wfh\": \"Remote\",\n",
    "\n",
    "    # Hybrid\n",
    "    \"hybrid\": \"Hybrid\", \"híbrido\": \"Hybrid\", \"modelo híbrido\": \"Hybrid\",\n",
    "    \"presencial y remoto\": \"Hybrid\", \"remoto parcial\": \"Hybrid\", \"remote & onsite\": \"Hybrid\",\n",
    "\n",
    "    # On Site\n",
    "    \"onsite\": \"On Site\", \"on site\": \"On Site\", \"presencial\": \"On Site\", \"oficina\": \"On Site\",\n",
    "    \"trabajo en oficina\": \"On Site\", \"work on-site\": \"On Site\", \"in-office\": \"On Site\"\n",
    "}\n"
   ]
  },
  {
   "cell_type": "markdown",
   "metadata": {},
   "source": [
    "---"
   ]
  },
  {
   "cell_type": "markdown",
   "metadata": {},
   "source": [
    "## 🛠️ 4. Keyword Extraction from Descriptions <a id=\"section4\"></a>\n",
    "\n",
    "We apply case-insensitive regex matching to extract keywords from each description, adding structured fields to the dataset:\n",
    "\n",
    "- `Tech Keywords`, `Num Tech Keywords`\n",
    "- `Soft Skills`, `Num Soft Skills`\n",
    "- `Work Mode` (standardized: Remote, Hybrid, On site, Unspecified)\n",
    "\n",
    "This allows us to analyze patterns and trends across roles and companies, even from free-form text."
   ]
  },
  {
   "cell_type": "markdown",
   "metadata": {},
   "source": [
    "We define reusable functions to extract structured information from job descriptions based on predefined keyword lists."
   ]
  },
  {
   "cell_type": "code",
   "execution_count": 132,
   "metadata": {},
   "outputs": [],
   "source": [
    "import re\n",
    "\n",
    "\n",
    "def extract_keywords(text, keyword_list):\n",
    "    text = str(text).lower()\n",
    "    return [kw for kw in keyword_list if re.search(rf\"\\b{re.escape(kw.lower())}\\b\", text)]\n",
    "\n",
    "def detect_work_mode_standard(text, keyword_map):\n",
    "    text = str(text).lower()\n",
    "    for keyword, label in keyword_map.items():\n",
    "        if re.search(rf\"\\b{re.escape(keyword)}\\b\", text):\n",
    "            return label\n",
    "    return \"Not Detected\""
   ]
  },
  {
   "cell_type": "markdown",
   "metadata": {},
   "source": [
    "We apply the defined functions to our dataset to generate new columns:\n",
    "- `Tech Keywords`\n",
    "- `Soft Skills`\n",
    "- `Work Mode`\n"
   ]
  },
  {
   "cell_type": "code",
   "execution_count": 133,
   "metadata": {},
   "outputs": [],
   "source": [
    "# Extract tech keywords\n",
    "df[\"Tech Skills\"] = df[\"Description\"].apply(lambda x: extract_keywords(x, TECH_KEYWORDS))\n",
    "df[\"Num Tech Skills\"] = df[\"Tech Skills\"].apply(len)\n",
    "\n",
    "# Extract soft skills\n",
    "df[\"Soft Skills\"] = df[\"Description\"].apply(lambda x: extract_keywords(x, SOFT_SKILLS))\n",
    "df[\"Num Soft Skills\"] = df[\"Soft Skills\"].apply(len)\n",
    "\n",
    "# Standardize work mode\n",
    "df[\"Work Mode\"] = df[\"Description\"].apply(lambda x: detect_work_mode_standard(x, WORK_MODE_MAP))\n"
   ]
  },
  {
   "cell_type": "markdown",
   "metadata": {},
   "source": [
    "### Soft Skills Normalization (Bilingual Mapping)\n",
    "\n",
    "Soft skills appear in both English and Spanish across job descriptions. To ensure consistent aggregation and analysis,  \n",
    "we will map all Spanish soft skills to their English equivalents using a standardized vocabulary.\n",
    "\n",
    "This will allow us to:\n",
    "\n",
    "- Avoid language-based duplicates (e.g. `communication` vs `comunicación`)\n",
    "- Improve frequency accuracy\n",
    "- Create cleaner visualizations and insights\n"
   ]
  },
  {
   "cell_type": "code",
   "execution_count": 134,
   "metadata": {},
   "outputs": [],
   "source": [
    "SOFT_SKILL_MAP = {\n",
    "    \"comunicación\": \"communication\",\n",
    "    \"trabajo en equipo\": \"teamwork\",\n",
    "    \"colaboración\": \"collaboration\",\n",
    "    \"resolución de problemas\": \"problem solving\",\n",
    "    \"pensamiento crítico\": \"critical thinking\",\n",
    "    \"atención al detalle\": \"attention to detail\",\n",
    "    \"creatividad\": \"creativity\",\n",
    "    \"gestión del tiempo\": \"time management\",\n",
    "    \"adaptabilidad\": \"adaptability\",\n",
    "    \"curiosidad\": \"curiosity\",\n",
    "    \"mentalidad analítica\": \"analytical mindset\",\n",
    "    \"iniciativa\": \"initiative\",\n",
    "    \"liderazgo\": \"leadership\",\n",
    "    \"autonomía\": \"autonomy\",\n",
    "    \"motivación\": \"self-motivation\",\n",
    "    \"responsabilidad\": \"accountability\",\n",
    "    \"organización\": \"organization\",\n",
    "    \"habilidades interpersonales\": \"interpersonal skills\",\n",
    "    \"gestión de proyectos\": \"project management\",\n",
    "    \"presentación\": \"presentation skills\",\n",
    "    \"aprendizaje rápido\": \"fast learner\",\n",
    "    \"proactividad\": \"proactive\",\n",
    "    \"resiliencia\": \"resilience\",\n",
    "    \"empatía\": \"empathy\",\n",
    "    \"visión de negocio\": \"business acumen\",\n",
    "    \"pensamiento estratégico\": \"strategic thinking\",\n",
    "    \"mente abierta\": \"open-minded\",\n",
    "    \"mentalidad ágil\": \"agile mindset\"\n",
    "}\n"
   ]
  },
  {
   "cell_type": "markdown",
   "metadata": {},
   "source": [
    "We define a function that takes a list of soft skills (in any language),  \n",
    "and returns a cleaned version where Spanish terms are converted to English equivalents using our mapping dictionary.\n",
    "\n",
    "Unrecognized terms are preserved in lowercase to ensure flexibility for further inspection."
   ]
  },
  {
   "cell_type": "code",
   "execution_count": 135,
   "metadata": {},
   "outputs": [],
   "source": [
    "def unify_soft_skills(skill_list):\n",
    "    if not isinstance(skill_list, list):\n",
    "        return []\n",
    "    return [SOFT_SKILL_MAP.get(skill.lower(), skill.lower()) for skill in skill_list]"
   ]
  },
  {
   "cell_type": "markdown",
   "metadata": {},
   "source": [
    "Now we apply the mapping function to the `Soft Skills` column to standardize all entries.  \n",
    "We also remove duplicates and recalculate the total number of soft skills per job listing."
   ]
  },
  {
   "cell_type": "code",
   "execution_count": 136,
   "metadata": {},
   "outputs": [],
   "source": [
    "# Apply transformation\n",
    "df[\"Soft Skills\"] = df[\"Soft Skills\"].apply(unify_soft_skills)"
   ]
  },
  {
   "cell_type": "markdown",
   "metadata": {},
   "source": [
    "Before proceeding further, we assess the coverage of our extracted fields:  \n",
    "- `Tech Keywords`  \n",
    "- `Soft Skills`  \n",
    "- `Work Mode`  \n",
    "\n",
    "This allows us to understand how many job descriptions contain at least one match in each category.\n"
   ]
  },
  {
   "cell_type": "code",
   "execution_count": 137,
   "metadata": {},
   "outputs": [
    {
     "name": "stdout",
     "output_type": "stream",
     "text": [
      "Tech Skills coverage: 69.33333333333334 %\n",
      "Soft Skills coverage: 67.33333333333333 %\n",
      "Work Mode coverage: 58.666666666666664 %\n"
     ]
    }
   ],
   "source": [
    "print(\"Tech Skills coverage:\", 100 * (1 - df[\"Num Tech Skills\"].eq(0).mean()), \"%\")\n",
    "print(\"Soft Skills coverage:\", 100 * (1 - df[\"Num Soft Skills\"].eq(0).mean()), \"%\")\n",
    "print(\"Work Mode coverage:\", 100 * (1 - df[\"Work Mode\"].eq(\"Not Detected\").mean()), \"%\")"
   ]
  },
  {
   "cell_type": "code",
   "execution_count": 138,
   "metadata": {},
   "outputs": [
    {
     "data": {
      "text/html": [
       "<div>\n",
       "<style scoped>\n",
       "    .dataframe tbody tr th:only-of-type {\n",
       "        vertical-align: middle;\n",
       "    }\n",
       "\n",
       "    .dataframe tbody tr th {\n",
       "        vertical-align: top;\n",
       "    }\n",
       "\n",
       "    .dataframe thead th {\n",
       "        text-align: right;\n",
       "    }\n",
       "</style>\n",
       "<table border=\"1\" class=\"dataframe\">\n",
       "  <thead>\n",
       "    <tr style=\"text-align: right;\">\n",
       "      <th></th>\n",
       "      <th>Title</th>\n",
       "      <th>Company</th>\n",
       "      <th>Description</th>\n",
       "      <th>URL</th>\n",
       "      <th>Tech Skills</th>\n",
       "      <th>Num Tech Skills</th>\n",
       "      <th>Soft Skills</th>\n",
       "      <th>Num Soft Skills</th>\n",
       "      <th>Work Mode</th>\n",
       "    </tr>\n",
       "  </thead>\n",
       "  <tbody>\n",
       "    <tr>\n",
       "      <th>0</th>\n",
       "      <td>Data Architect</td>\n",
       "      <td>Axiom Software Solutions</td>\n",
       "      <td>Descripción de la oferta de empleo\\t\\t\\t\\t\\t\\n...</td>\n",
       "      <td>https://www.tecnoempleo.com/data-architect-axi...</td>\n",
       "      <td>[gcp]</td>\n",
       "      <td>1</td>\n",
       "      <td>[]</td>\n",
       "      <td>0</td>\n",
       "      <td>Hybrid</td>\n",
       "    </tr>\n",
       "    <tr>\n",
       "      <th>1</th>\n",
       "      <td>Solution Architect</td>\n",
       "      <td>Axiom Software Solutions</td>\n",
       "      <td>Descripción de la oferta de empleo\\t\\t\\t\\t\\t\\n...</td>\n",
       "      <td>https://www.tecnoempleo.com/solution-architect...</td>\n",
       "      <td>[]</td>\n",
       "      <td>0</td>\n",
       "      <td>[]</td>\n",
       "      <td>0</td>\n",
       "      <td>Hybrid</td>\n",
       "    </tr>\n",
       "    <tr>\n",
       "      <th>2</th>\n",
       "      <td>Data Analyst AWS</td>\n",
       "      <td>Digital Talent Agency</td>\n",
       "      <td>Descripción de la oferta de empleo\\t\\t\\t\\t\\t\\n...</td>\n",
       "      <td>https://www.tecnoempleo.com/data-analyst-aws-d...</td>\n",
       "      <td>[python, sql, tableau, spark, aws, git]</td>\n",
       "      <td>6</td>\n",
       "      <td>[business acumen]</td>\n",
       "      <td>1</td>\n",
       "      <td>Remote</td>\n",
       "    </tr>\n",
       "    <tr>\n",
       "      <th>3</th>\n",
       "      <td>Data Engineer AWS + Python</td>\n",
       "      <td>Serem</td>\n",
       "      <td>Descripción de la oferta de empleo\\t\\t\\t\\t\\t\\n...</td>\n",
       "      <td>https://www.tecnoempleo.com/data-engineer-aws-...</td>\n",
       "      <td>[python, aws]</td>\n",
       "      <td>2</td>\n",
       "      <td>[analytical mindset]</td>\n",
       "      <td>1</td>\n",
       "      <td>On Site</td>\n",
       "    </tr>\n",
       "    <tr>\n",
       "      <th>4</th>\n",
       "      <td>Programador/a Servicenow</td>\n",
       "      <td>Serem</td>\n",
       "      <td>Descripción de la oferta de empleo\\t\\t\\t\\t\\t\\n...</td>\n",
       "      <td>https://www.tecnoempleo.com/programador-servic...</td>\n",
       "      <td>[]</td>\n",
       "      <td>0</td>\n",
       "      <td>[problem solving, accountability, proactive]</td>\n",
       "      <td>3</td>\n",
       "      <td>Remote</td>\n",
       "    </tr>\n",
       "  </tbody>\n",
       "</table>\n",
       "</div>"
      ],
      "text/plain": [
       "                        Title                   Company  \\\n",
       "0              Data Architect  Axiom Software Solutions   \n",
       "1          Solution Architect  Axiom Software Solutions   \n",
       "2            Data Analyst AWS     Digital Talent Agency   \n",
       "3  Data Engineer AWS + Python                     Serem   \n",
       "4    Programador/a Servicenow                     Serem   \n",
       "\n",
       "                                         Description  \\\n",
       "0  Descripción de la oferta de empleo\\t\\t\\t\\t\\t\\n...   \n",
       "1  Descripción de la oferta de empleo\\t\\t\\t\\t\\t\\n...   \n",
       "2  Descripción de la oferta de empleo\\t\\t\\t\\t\\t\\n...   \n",
       "3  Descripción de la oferta de empleo\\t\\t\\t\\t\\t\\n...   \n",
       "4  Descripción de la oferta de empleo\\t\\t\\t\\t\\t\\n...   \n",
       "\n",
       "                                                 URL  \\\n",
       "0  https://www.tecnoempleo.com/data-architect-axi...   \n",
       "1  https://www.tecnoempleo.com/solution-architect...   \n",
       "2  https://www.tecnoempleo.com/data-analyst-aws-d...   \n",
       "3  https://www.tecnoempleo.com/data-engineer-aws-...   \n",
       "4  https://www.tecnoempleo.com/programador-servic...   \n",
       "\n",
       "                               Tech Skills  Num Tech Skills  \\\n",
       "0                                    [gcp]                1   \n",
       "1                                       []                0   \n",
       "2  [python, sql, tableau, spark, aws, git]                6   \n",
       "3                            [python, aws]                2   \n",
       "4                                       []                0   \n",
       "\n",
       "                                    Soft Skills  Num Soft Skills Work Mode  \n",
       "0                                            []                0    Hybrid  \n",
       "1                                            []                0    Hybrid  \n",
       "2                             [business acumen]                1    Remote  \n",
       "3                          [analytical mindset]                1   On Site  \n",
       "4  [problem solving, accountability, proactive]                3    Remote  "
      ]
     },
     "execution_count": 138,
     "metadata": {},
     "output_type": "execute_result"
    }
   ],
   "source": [
    "# Checking\n",
    "df.head()"
   ]
  },
  {
   "cell_type": "markdown",
   "metadata": {},
   "source": [
    "### 🆘 Observations:\n",
    "\n",
    "- Around **30%** of offers do not mention any identifiable tech skill.\n",
    "- About **32%** lack soft skill mentions.\n",
    "- Nearly **41%** of descriptions do not specify work modality clearly.\n",
    "\n",
    "This highlights the natural variability and informality in how job postings are written. We could improve keyword coverage by expanding the keyword lists or applying NLP techniques in the future.\n"
   ]
  },
  {
   "cell_type": "markdown",
   "metadata": {},
   "source": [
    "> ⚙️ **Note on keyword matching**  \n",
    "> While our current approach using regex and curated keyword lists provides a simple and interpretable way to extract information from unstructured text, there is room for improvement.\n",
    ">\n",
    "> For instance, we could:\n",
    "> - Expand the keyword lists with additional synonyms, abbreviations, and variations.\n",
    "> - Apply normalization techniques (e.g. lemmatization or fuzzy matching).\n",
    "> - Explore NLP-based alternatives such as named entity recognition or embedding similarity.\n",
    ">\n",
    ">However, since the primary goal of this project is to demonstrate **data extraction via web scraping**, structured feature creation, and **EDA for storytelling**, we deliberately keep the text > processing lightweight and transparent."
   ]
  },
  {
   "cell_type": "markdown",
   "metadata": {},
   "source": [
    "---"
   ]
  },
  {
   "cell_type": "markdown",
   "metadata": {},
   "source": [
    "## 🕵️ 5. Exploratory Data Insights <a id=\"section5\"></a>\n",
    "\n",
    "In this section, we explore the structured features extracted from job descriptions to uncover patterns in demand for technologies, soft skills, and work modalities across job offers.\n",
    "\n",
    "The goal is to answer simple, insightful questions that support data storytelling and interpretation.\n"
   ]
  },
  {
   "cell_type": "markdown",
   "metadata": {},
   "source": [
    "### 🎯 5.1 Most In-Demand Tech Skills <a id=\"section5.1\"></a>\n",
    "\n",
    "We examine the top technologies mentioned in job descriptions to identify the most in-demand technical skills for data professionals.\n"
   ]
  },
  {
   "cell_type": "code",
   "execution_count": 139,
   "metadata": {},
   "outputs": [
    {
     "data": {
      "image/png": "[encoded data removed]",
      "text/plain": [
       "<Figure size 1000x500 with 1 Axes>"
      ]
     },
     "metadata": {},
     "output_type": "display_data"
    }
   ],
   "source": [
    "from collections import Counter\n",
    "import matplotlib.pyplot as plt\n",
    "import seaborn as sns\n",
    "\n",
    "\n",
    "top_tech = Counter(df[\"Tech Skills\"].explode().dropna()).most_common(15)\n",
    "top_tech_df = pd.DataFrame(top_tech, columns=[\"Technology\", \"Mentions\"])\n",
    "\n",
    "plt.figure(figsize=(10, 5))\n",
    "sns.barplot(\n",
    "    data=top_tech_df,\n",
    "    x=\"Mentions\",\n",
    "    y=\"Technology\",\n",
    "    hue=\"Technology\",\n",
    "    palette=\"Blues_d\",\n",
    "    dodge=False,\n",
    "    legend=False\n",
    ")\n",
    "plt.title(\"Top 15 Most Requested Tech Skills\")\n",
    "plt.xlabel(\"Mentions\")\n",
    "plt.ylabel(\"Technology\")\n",
    "plt.grid(axis='x', linestyle='--', alpha=0.5)\n",
    "plt.show()"
   ]
  },
  {
   "cell_type": "markdown",
   "metadata": {},
   "source": [
    "> 💡 **Insight:**  \n",
    "> The most in-demand technical skills across all job offers are **SQL** and **Python**, appearing in a majority of listings.  \n",
    ">  \n",
    "> Cloud platforms like **AWS** and **Azure**, along with big data tools such as **Spark**, are also frequently mentioned, highlighting the importance of cloud-based and scalable data solutions.  \n",
    ">  \n",
    "> Developer tools like **Git**, business intelligence platforms like **Power BI**, and orchestration tools including **Airflow** and **Kubernetes** reinforce the need for end-to-end pipeline and reporting capabilities.  \n",
    ">  \n",
    "> While more niche technologies like **Hadoop** and **R** appear less often, their presence suggests some roles still require legacy systems or specialized statistical skills.\n"
   ]
  },
  {
   "cell_type": "markdown",
   "metadata": {},
   "source": [
    "### 🏢 5.2 Job Offers by Work Mode <a id=\"section5.2\"></a>\n",
    "\n",
    "We analyze the distribution of job postings by work modality: Remote, Hybrid, or On Site.\n"
   ]
  },
  {
   "cell_type": "code",
   "execution_count": 140,
   "metadata": {},
   "outputs": [
    {
     "data": {
      "image/png": "[encoded data removed]",
      "text/plain": [
       "<Figure size 700x400 with 1 Axes>"
      ]
     },
     "metadata": {},
     "output_type": "display_data"
    }
   ],
   "source": [
    "workmode_order = df[\"Work Mode\"].value_counts().index\n",
    "\n",
    "plt.figure(figsize=(7, 4))\n",
    "sns.countplot(\n",
    "    data=df,\n",
    "    x=\"Work Mode\",\n",
    "    order=workmode_order,\n",
    "    hue=\"Work Mode\",\n",
    "    palette=\"pastel\",\n",
    "    dodge=False,\n",
    "    legend=False\n",
    ")\n",
    "plt.title(\"Distribution of Job Offers by Work Mode\")\n",
    "plt.ylabel(\"Number of Offers\")\n",
    "plt.xlabel(\"Work Mode\")\n",
    "plt.grid(axis='y', linestyle='--', alpha=0.5)\n",
    "plt.show()\n"
   ]
  },
  {
   "cell_type": "markdown",
   "metadata": {},
   "source": [
    "> 💡 **Insight:**  \n",
    "Nearly half of the job offers do not clearly specify the work modality, appearing as *Not Detected* in the dataset.  \n",
    "Among the classified roles, **Remote** positions are the most common, followed by **Hybrid**.  \n",
    "**On Site** roles are rare, suggesting a strong trend toward flexible or remote-first work environments in data-related jobs.\n"
   ]
  },
  {
   "cell_type": "markdown",
   "metadata": {},
   "source": [
    "### ⚖️ 5.3 Comparing Tech Skills in Remote vs Hybrid Roles <a id=\"section5.3\"></a>\n",
    "\n",
    "While the dataset includes four work modes (`Remote`, `Hybrid`, `On Site`, and `Unspecified`), only *Remote* and *Hybrid* offer enough data to extract reliable insights.\n",
    "\n",
    "- `Unspecified` offers lack clarity and are excluded from this analysis.\n",
    "- `On Site` roles are underrepresented (fewer than 10 listings) and statistically insignificant.\n",
    "\n",
    "We compare the most in-demand tech skills between *Remote* and *Hybrid* positions.\n"
   ]
  },
  {
   "cell_type": "code",
   "execution_count": 141,
   "metadata": {},
   "outputs": [
    {
     "data": {
      "image/png": "[encoded data removed]",
      "text/plain": [
       "<Figure size 1200x600 with 1 Axes>"
      ]
     },
     "metadata": {},
     "output_type": "display_data"
    }
   ],
   "source": [
    "# Aux function to get top skills by work mode\n",
    "def get_top_skills_by_mode(mode, top_n=10):\n",
    "    skills = df[df[\"Work Mode\"] == mode][\"Tech Skills\"].explode().dropna()\n",
    "    return pd.DataFrame(Counter(skills).most_common(top_n), columns=[\"Technology\", \"Mentions\"]).assign(Work_Mode=mode)\n",
    "\n",
    "# We merge both dataframes to create a comparative plot\n",
    "remote_skills = get_top_skills_by_mode(\"Remote\")\n",
    "hybrid_skills = get_top_skills_by_mode(\"Hybrid\")\n",
    "combined_skills = pd.concat([remote_skills, hybrid_skills], ignore_index=True)\n",
    "\n",
    "# Comparative plot\n",
    "plt.figure(figsize=(12, 6))\n",
    "sns.barplot(\n",
    "    data=combined_skills,\n",
    "    x=\"Mentions\", y=\"Technology\",\n",
    "    hue=\"Work_Mode\", palette=\"pastel\"\n",
    ")\n",
    "plt.title(\"Top Tech Skills in Remote vs Hybrid Job Offers\")\n",
    "plt.xlabel(\"Mentions\")\n",
    "plt.ylabel(\"Technology\")\n",
    "plt.grid(axis='x', linestyle='--', alpha=0.5)\n",
    "plt.legend(title=\"Work Mode\")\n",
    "plt.show()\n"
   ]
  },
  {
   "cell_type": "markdown",
   "metadata": {},
   "source": [
    "> 💡 **Insight:**  \n",
    "> Remote job offers highlight a broader and more modern tech stack, with greater mentions of cloud platforms (AWS, Azure, GCP), orchestration tools (Airflow, Kubernetes), and distributed processing frameworks (Spark, Kafka).  \n",
    ">  \n",
    "> Core skills like **SQL** and **Python** are highly demanded across both modalities.  \n",
    ">  \n",
    "> Interestingly:  \n",
    "> - Technologies such as **Kafka**, **Airflow**, and **Kubernetes** appear **only in Remote** job listings.  \n",
    "> - On the other hand, **R**, **Java**, and **PostgreSQL** are mentioned **exclusively in Hybrid** roles.  \n",
    ">  \n",
    "> This may reflect subtle differences in the technical environments or legacy systems adopted by each type of organization.\n"
   ]
  },
  {
   "cell_type": "markdown",
   "metadata": {},
   "source": [
    "### 💬 5.4 Most In-Demand Soft Skills <a id=\"section5.4\"></a>\n",
    "\n",
    "Beyond technical expertise, data professionals are expected to demonstrate strong interpersonal and behavioral traits.  \n",
    "In this section, we identify the most frequently mentioned soft skills in job descriptions across the dataset."
   ]
  },
  {
   "cell_type": "code",
   "execution_count": 142,
   "metadata": {},
   "outputs": [
    {
     "data": {
      "image/png": "[encoded data removed]",
      "text/plain": [
       "<Figure size 1000x500 with 1 Axes>"
      ]
     },
     "metadata": {},
     "output_type": "display_data"
    }
   ],
   "source": [
    "# Counter for soft skills\n",
    "top_soft = Counter(df[\"Soft Skills\"].explode().dropna()).most_common(15)\n",
    "top_soft_df = pd.DataFrame(top_soft, columns=[\"Soft Skill\", \"Mentions\"])\n",
    "\n",
    "# Visualization\n",
    "plt.figure(figsize=(10, 5))\n",
    "sns.barplot(\n",
    "    data=top_soft_df,\n",
    "    x=\"Mentions\",\n",
    "    y=\"Soft Skill\",\n",
    "    hue=\"Soft Skill\",\n",
    "    palette=\"Reds_d\",\n",
    "    dodge=False,\n",
    "    legend=False\n",
    ")\n",
    "plt.title(\"Top 15 Most Requested Soft Skills in Job Offers\")\n",
    "plt.xlabel(\"Mentions\")\n",
    "plt.ylabel(\"Soft Skill\")\n",
    "plt.grid(axis='x', linestyle='--', alpha=0.5)\n",
    "plt.show()\n"
   ]
  },
  {
   "cell_type": "markdown",
   "metadata": {},
   "source": [
    "> 💡 **Insight:**  \n",
    "> Employers place strong emphasis on communication-related skills, with **communication**, **collaboration**, and **organization** topping the list of soft skills required in data roles.  \n",
    ">  \n",
    "> Traits like **proactivity**, **leadership**, and **problem solving** also appear frequently, indicating a preference for professionals who can take initiative and drive impact independently.  \n",
    ">  \n",
    "> The prominence of skills such as **project management**, **presentation**, and **attention to detail** further reflects the need for structured thinking and effective reporting in cross-functional data teams.\n"
   ]
  },
  {
   "cell_type": "markdown",
   "metadata": {},
   "source": [
    "### ⚠️ 5.5 Limitations & Disclaimer <a id=\"section5.5\"></a>\n",
    "\n",
    "The insights presented throughout this analysis should be interpreted with caution due to several important limitations:\n",
    "\n",
    "- 📊 The dataset includes only **150 job offers**, which is a relatively small sample size.\n",
    "- ❌ Many listings contain **missing or unspecified fields**, especially regarding work modality and structured attributes.\n",
    "- 🧾 The keyword-based extraction approach relies on **manual lists of terms**, which may not fully capture all possible variations in language or terminology.\n",
    "- 🌐 Job descriptions may differ significantly in structure, tone, and detail, making some skills or information harder to detect with simple matching techniques.\n",
    "\n",
    "Despite these limitations, the analysis provides valuable directional insights into the most common requirements in data-related roles.  \n",
    "Future iterations could improve accuracy and coverage through NLP models or larger-scale scraping pipelines.\n"
   ]
  },
  {
   "cell_type": "markdown",
   "metadata": {},
   "source": [
    "---"
   ]
  },
  {
   "cell_type": "markdown",
   "metadata": {},
   "source": [
    "## 🧠 6. NLP-Based Approach with spaCy <a id=\"section6\"></a>\n",
    "\n",
    "While the keyword-based approach helped us extract skills from job descriptions, it has limitations in flexibility and coverage.  \n",
    "In this section, we use [**spaCy**](https://spacy.io/), a powerful NLP library, to process descriptions and extract candidate tokens in a smarter way.  \n",
    "\n",
    "Our goal is to:\n",
    "- Reduce the number of missing tech/soft skill entries\n",
    "- Discover additional relevant terms\n",
    "- Improve coverage and insight quality\n",
    "\n",
    "We will focus on extracting the following attributes from the text:\n",
    "- **Work mode**: remote, hybrid or on-site\n",
    "- **Technical skills** (e.g. Python, Power BI, SQL, Excel)\n",
    "- **Soft skills** (e.g. communication, autonomy, teamwork)\n",
    "\n",
    "The challenge is that descriptions appear in both **English** and **Spanish**, and we want a method that handles both languages robustly."
   ]
  },
  {
   "cell_type": "markdown",
   "metadata": {},
   "source": [
    "Before starting the NLP-based extraction, we drop all columns created during the initial keyword matching phase.\n",
    "\n",
    "This ensures a clean slate for comparison and prevents any overlap or interference with the new results obtained via spaCy-based natural language processing."
   ]
  },
  {
   "cell_type": "markdown",
   "metadata": {},
   "source": [
    "### 🧪 6.1 Strategy: Rule-based NLP with spaCy <a id=\"section6.1\"></a>\n",
    "\n",
    "Instead of relying on generic Named Entity Recognition (NER), we implement a **rule-based approach using PhraseMatcher** from spaCy.  \n",
    "This allows us to define domain-specific vocabulary (like \"remote work\" or \"trabajo presencial\") and match these patterns efficiently.\n",
    "\n",
    "We create language-specific matchers in both Spanish and English using `es_core_news_md` and `en_core_web_md`, and assign a **work mode label** to each offer accordingly.  \n",
    "The detected work mode will be stored in a new column called `\"Work Mode (NLP)\"` to keep it separated from the keyword-based column for future comparison."
   ]
  },
  {
   "cell_type": "code",
   "execution_count": 143,
   "metadata": {},
   "outputs": [],
   "source": [
    "# Load spaCy models and initialize matchers\n",
    "import spacy\n",
    "from spacy.matcher import PhraseMatcher\n",
    "\n",
    "\n",
    "# Load models for Spanish and English\n",
    "nlp_es = spacy.load(\"es_core_news_md\")\n",
    "nlp_en = spacy.load(\"en_core_web_md\")\n",
    "\n",
    "# Create rule-based matchers\n",
    "matcher_es = PhraseMatcher(nlp_es.vocab, attr=\"LOWER\")\n",
    "matcher_en = PhraseMatcher(nlp_en.vocab, attr=\"LOWER\")"
   ]
  },
  {
   "cell_type": "markdown",
   "metadata": {},
   "source": [
    "Before extracting specific categories, we define custom rule-based phrase patterns for each case.\n",
    "\n",
    "We begin with the **Work Mode** detection. We group expressions into three categories:\n",
    "\n",
    "- `\"Remoto\"`: includes phrases like *remote*, *teletrabajo*, or *home office*\n",
    "- `\"Híbrido\"`: for hybrid models (*híbrido*, *hybrid*, etc.)\n",
    "- `\"Presencial\"`: for on-site positions (*presencial*, *oficina*, *on-site*, etc.)\n",
    "\n",
    "These patterns are then added to the PhraseMatchers for Spanish and English.\n",
    "\n",
    "This allows us to match phrases in both languages using a shared logic."
   ]
  },
  {
   "cell_type": "code",
   "execution_count": 144,
   "metadata": {},
   "outputs": [],
   "source": [
    "# Define work mode phrases\n",
    "remote_terms = [\"remoto\", \"remote\", \"teletrabajo\", \"trabajo desde casa\", \"home office\", \"work from home\"]\n",
    "hybrid_terms = [\"híbrido\", \"híbrida\", \"hybrid\"]\n",
    "onsite_terms = [\"presencial\", \"on-site\", \"oficina\", \"office\", \"en oficina\", \"on site\"]\n",
    "\n",
    "# Group by label\n",
    "work_mode_dict = {\n",
    "    \"Remote\": remote_terms,\n",
    "    \"Hybrid\": hybrid_terms,\n",
    "    \"On Site\": onsite_terms\n",
    "}\n",
    "\n",
    "# Add them to the matcher in both languagues\n",
    "for label, phrases in work_mode_dict.items():\n",
    "    matcher_es.add(label, [nlp_es.make_doc(p) for p in phrases])\n",
    "    matcher_en.add(label, [nlp_en.make_doc(p) for p in phrases])"
   ]
  },
  {
   "cell_type": "markdown",
   "metadata": {},
   "source": [
    "In the same way, we now define **custom patterns for Technical Skills and Soft Skills**.\n",
    "\n",
    "These patterns are also based on domain knowledge, combining keywords in both Spanish and English.\n",
    "\n",
    "- 🔧 Technical skills include programming languages, databases, BI tools, etc.\n",
    "- 💡 Soft skills include communication, autonomy, teamwork, flexibility, etc.\n",
    "\n",
    "We will store these patterns in two dictionaries and later apply them using the same `PhraseMatcher` logic."
   ]
  },
  {
   "cell_type": "code",
   "execution_count": 145,
   "metadata": {},
   "outputs": [],
   "source": [
    "# TECH SKILLS (the same from simple keyword match approach)\n",
    "tech_skills = TECH_KEYWORDS\n",
    "\n",
    "# SOFT SKILLS (the same from simple keyword match approach)\n",
    "soft_skills = SOFT_SKILLS\n",
    "\n",
    "# Dictionaries for tech and soft skills\n",
    "tech_dict = {\"Tech Skill\": tech_skills}\n",
    "soft_dict = {\"Soft Skill\": soft_skills}\n",
    "\n",
    "# Add Tech Skills to the matcher in both languagues\n",
    "for label, phrases in tech_dict.items():\n",
    "    matcher_es.add(label, [nlp_es.make_doc(p) for p in phrases])\n",
    "    matcher_en.add(label, [nlp_en.make_doc(p) for p in phrases])\n",
    "\n",
    "# Add Soft Skills to the matcher in both languagues\n",
    "for label, phrases in soft_dict.items():\n",
    "    matcher_es.add(label, [nlp_es.make_doc(p) for p in phrases])\n",
    "    matcher_en.add(label, [nlp_en.make_doc(p) for p in phrases])"
   ]
  },
  {
   "cell_type": "markdown",
   "metadata": {},
   "source": [
    "We now have all our phrase matchers ready:\n",
    "\n",
    "- `Work Mode`: categorized as Remote / Hybrid / On-site\n",
    "- `Tech Skills`: 30+ common technical tools and frameworks\n",
    "- `Soft Skills`: 15+ soft skills in both Spanish and English\n",
    "\n",
    "In the next sections, we will apply each matcher to the dataset and create new columns accordingly."
   ]
  },
  {
   "cell_type": "markdown",
   "metadata": {},
   "source": [
    "### 🏠 6.2 Work Mode Extraction (NLP based) <a id=\"section6.2\"></a>\n",
    "\n",
    "In this section, we apply the previously defined matchers to extract the **work mode** from each job description.\n",
    "\n",
    "Our function checks both Spanish and English matchers and returns:\n",
    "- `\"Remote\"` if any remote-related expression is found\n",
    "- `\"Hybrid\"` if a hybrid model is mentioned\n",
    "- `\"On Site\"` if the offer is on-site\n",
    "- `\"Not Detected\"` if no match is found in either language\n",
    "\n",
    "We store the result in a new column called **`Work Mode (NLP)`**."
   ]
  },
  {
   "cell_type": "code",
   "execution_count": 146,
   "metadata": {},
   "outputs": [],
   "source": [
    "def detect_work_mode_nlp(description):\n",
    "    if pd.isnull(description):\n",
    "        return \"Not Detected\"\n",
    "    \n",
    "    doc_es = nlp_es(description)\n",
    "    doc_en = nlp_en(description)\n",
    "\n",
    "    for matcher, doc in [(matcher_es, doc_es), (matcher_en, doc_en)]:\n",
    "        matches = matcher(doc)\n",
    "        for match_id, _, _ in matches:\n",
    "            label = doc.vocab.strings[match_id]\n",
    "            if label == \"Remote\":\n",
    "                return \"Remote\"\n",
    "            elif label == \"Hybrid\":\n",
    "                return \"Hybrid\"\n",
    "            elif label == \"On Site\":\n",
    "                return \"On Site\"\n",
    "    \n",
    "    return \"Not Detected\""
   ]
  },
  {
   "cell_type": "code",
   "execution_count": 147,
   "metadata": {},
   "outputs": [
    {
     "data": {
      "text/plain": [
       "Work Mode NLP\n",
       "Not Detected    52\n",
       "Hybrid          36\n",
       "Remote          32\n",
       "On Site         30\n",
       "Name: count, dtype: int64"
      ]
     },
     "execution_count": 147,
     "metadata": {},
     "output_type": "execute_result"
    }
   ],
   "source": [
    "# Apply the NLP-based work mode detection\n",
    "df[\"Work Mode NLP\"] = df[\"Description\"].apply(detect_work_mode_nlp)\n",
    "\n",
    "# Count the distribution of detected modes\n",
    "df[\"Work Mode NLP\"].value_counts(dropna=False)"
   ]
  },
  {
   "cell_type": "markdown",
   "metadata": {},
   "source": [
    "Let’s now compare the distribution of work modes extracted with **keyword matching** and with **NLP (spaCy)**.\n",
    "\n",
    "This helps us understand:\n",
    "- Which approach detects more offers\n",
    "- Whether they identify the same or different job posts\n",
    "- If combining both could be useful"
   ]
  },
  {
   "cell_type": "code",
   "execution_count": 148,
   "metadata": {},
   "outputs": [
    {
     "data": {
      "image/png": "[encoded data removed]",
      "text/plain": [
       "<Figure size 1000x600 with 1 Axes>"
      ]
     },
     "metadata": {},
     "output_type": "display_data"
    }
   ],
   "source": [
    "# Count values from both columns\n",
    "keyword_counts = df[\"Work Mode\"].value_counts()\n",
    "nlp_counts = df[\"Work Mode NLP\"].value_counts()\n",
    "\n",
    "# Create a DataFrame to compare the two methods\n",
    "comparison_df = pd.DataFrame({\n",
    "    \"Keyword Matching\": keyword_counts,\n",
    "    \"NLP (spaCy)\": nlp_counts\n",
    "}).fillna(0)\n",
    "\n",
    "# Convert to long format for seaborn\n",
    "comparison_long = comparison_df.reset_index().melt(\n",
    "    id_vars=\"index\", \n",
    "    value_vars=[\"Keyword Matching\", \"NLP (spaCy)\"],\n",
    "    var_name=\"Method\",\n",
    "    value_name=\"Count\"\n",
    ")\n",
    "\n",
    "# Rename for clarity\n",
    "comparison_long.rename(columns={\"index\": \"Work Mode\"}, inplace=True)\n",
    "\n",
    "# Plot\n",
    "plt.figure(figsize=(10, 6))\n",
    "sns.barplot(\n",
    "    data=comparison_long,\n",
    "    x=\"Work Mode\",\n",
    "    y=\"Count\",\n",
    "    hue=\"Method\",\n",
    "    palette=\"pastel\"\n",
    ")\n",
    "\n",
    "plt.title(\"Work Mode Detection: Keyword Matching vs NLP\", fontsize=14)\n",
    "plt.ylabel(\"Number of Job Offers\")\n",
    "plt.xlabel(\"Work Mode\")\n",
    "plt.grid(axis=\"y\", linestyle=\"--\", alpha=0.6)\n",
    "plt.tight_layout()\n",
    "plt.show()\n"
   ]
  },
  {
   "cell_type": "markdown",
   "metadata": {},
   "source": [
    ">💡 **Insight:**  \n",
    ">The NLP-based approach improves the detection of **Hybrid** (~5%) and **On Site** (~23%) work modes compared to keyword matching.  \n",
    ">This suggests that spaCy's matcher is able to capture more nuanced expressions (e.g. *\"trabajo en oficina\"*, *\"modalidad híbrida\"*) that basic keyword logic misses.\n",
    ">\n",
    ">On the other hand, the **Remote** category shows a noticeable drop (~18%) in detection with NLP, possibly due to stricter pattern matching across languages.\n",
    ">\n",
    ">The **Not Detected** count dropped by approximately **10%**, indicating a **meaningful gain in coverage and flexibility** when processing diverse job descriptions.\n"
   ]
  },
  {
   "cell_type": "markdown",
   "metadata": {},
   "source": [
    "### 🛠️ 6.3 Technical Skills Extraction (NLP based) <a id=\"section6.3\"></a>\n",
    "\n",
    "In this section, we use the rule-based matchers defined earlier to extract **technical skills** from each job description.\n",
    "\n",
    "These include tools and technologies commonly requested in data-related roles, such as:\n",
    "- Programming languages (e.g. Python, R, SQL)\n",
    "- BI platforms (e.g. Power BI, Tableau)\n",
    "- Data tools (e.g. Excel, pandas, Spark)\n",
    "- Cloud & engineering tech (e.g. AWS, Airflow, Docker, Git)\n",
    "\n",
    "We store the result in a new column called **`Tech Skills NLP`**, where each row contains a list of matched skills for that offer."
   ]
  },
  {
   "cell_type": "code",
   "execution_count": 149,
   "metadata": {},
   "outputs": [],
   "source": [
    "def extract_tech_skills(description):\n",
    "    if pd.isnull(description):\n",
    "        return []\n",
    "\n",
    "    doc_es = nlp_es(description)\n",
    "    doc_en = nlp_en(description)\n",
    "\n",
    "    skills = set()\n",
    "\n",
    "    # Check both matchers\n",
    "    for matcher, doc in [(matcher_es, doc_es), (matcher_en, doc_en)]:\n",
    "        matches = matcher(doc)\n",
    "        for match_id, start, end in matches:\n",
    "            label = doc.vocab.strings[match_id]\n",
    "            span = doc[start:end].text.strip().lower()\n",
    "            if label == \"Tech Skill\":\n",
    "                skills.add(span)\n",
    "    \n",
    "    return sorted(skills)"
   ]
  },
  {
   "cell_type": "markdown",
   "metadata": {},
   "source": [
    "Now we apply the `extract_tech_skills()` function to each job description.\n",
    "\n",
    "This will generate a new column called **`Tech Skills NLP`**, where each row contains the list of technologies detected using spaCy-based matching.\n",
    "\n",
    "We also create a second column, **`Num Tech Skills NLP`**, to count the number of skills found per offer. This will help us compare the results with the keyword-based approach later."
   ]
  },
  {
   "cell_type": "code",
   "execution_count": 150,
   "metadata": {},
   "outputs": [
    {
     "data": {
      "text/html": [
       "<div>\n",
       "<style scoped>\n",
       "    .dataframe tbody tr th:only-of-type {\n",
       "        vertical-align: middle;\n",
       "    }\n",
       "\n",
       "    .dataframe tbody tr th {\n",
       "        vertical-align: top;\n",
       "    }\n",
       "\n",
       "    .dataframe thead th {\n",
       "        text-align: right;\n",
       "    }\n",
       "</style>\n",
       "<table border=\"1\" class=\"dataframe\">\n",
       "  <thead>\n",
       "    <tr style=\"text-align: right;\">\n",
       "      <th></th>\n",
       "      <th>Title</th>\n",
       "      <th>Tech Skills NLP</th>\n",
       "      <th>Num Tech Skills NLP</th>\n",
       "    </tr>\n",
       "  </thead>\n",
       "  <tbody>\n",
       "    <tr>\n",
       "      <th>0</th>\n",
       "      <td>Data Architect</td>\n",
       "      <td>[gcp]</td>\n",
       "      <td>1</td>\n",
       "    </tr>\n",
       "    <tr>\n",
       "      <th>1</th>\n",
       "      <td>Solution Architect</td>\n",
       "      <td>[]</td>\n",
       "      <td>0</td>\n",
       "    </tr>\n",
       "    <tr>\n",
       "      <th>2</th>\n",
       "      <td>Data Analyst AWS</td>\n",
       "      <td>[aws, git, python, spark, sql, tableau]</td>\n",
       "      <td>6</td>\n",
       "    </tr>\n",
       "    <tr>\n",
       "      <th>3</th>\n",
       "      <td>Data Engineer AWS + Python</td>\n",
       "      <td>[aws, python]</td>\n",
       "      <td>2</td>\n",
       "    </tr>\n",
       "    <tr>\n",
       "      <th>4</th>\n",
       "      <td>Programador/a Servicenow</td>\n",
       "      <td>[]</td>\n",
       "      <td>0</td>\n",
       "    </tr>\n",
       "  </tbody>\n",
       "</table>\n",
       "</div>"
      ],
      "text/plain": [
       "                        Title                          Tech Skills NLP  \\\n",
       "0              Data Architect                                    [gcp]   \n",
       "1          Solution Architect                                       []   \n",
       "2            Data Analyst AWS  [aws, git, python, spark, sql, tableau]   \n",
       "3  Data Engineer AWS + Python                            [aws, python]   \n",
       "4    Programador/a Servicenow                                       []   \n",
       "\n",
       "   Num Tech Skills NLP  \n",
       "0                    1  \n",
       "1                    0  \n",
       "2                    6  \n",
       "3                    2  \n",
       "4                    0  "
      ]
     },
     "execution_count": 150,
     "metadata": {},
     "output_type": "execute_result"
    }
   ],
   "source": [
    "# Apply the tech skill extractor\n",
    "df[\"Tech Skills NLP\"] = df[\"Description\"].apply(extract_tech_skills)\n",
    "\n",
    "# Create a new column counting how many tech skills were detected with NLP\n",
    "df[\"Num Tech Skills NLP\"] = df[\"Tech Skills NLP\"].apply(len)\n",
    "\n",
    "# Quick preview\n",
    "df[[\"Title\", \"Tech Skills NLP\", \"Num Tech Skills NLP\"]].head(5)"
   ]
  },
  {
   "cell_type": "markdown",
   "metadata": {},
   "source": [
    "Let’s analyze the most frequently mentioned tech skills detected with NLP.\n",
    "\n",
    "We’ll count total mentions across all offers and display the **Top 15 tech skills**."
   ]
  },
  {
   "cell_type": "code",
   "execution_count": 151,
   "metadata": {},
   "outputs": [
    {
     "data": {
      "image/png": "[encoded data removed]",
      "text/plain": [
       "<Figure size 1000x600 with 1 Axes>"
      ]
     },
     "metadata": {},
     "output_type": "display_data"
    }
   ],
   "source": [
    "# Flatten the list of all detected tech skills\n",
    "all_tech_skills = [skill for sublist in df[\"Tech Skills NLP\"] for skill in sublist]\n",
    "tech_freq = Counter(all_tech_skills)\n",
    "\n",
    "# Convert to DataFrame\n",
    "tech_df = pd.DataFrame(tech_freq.most_common(15), columns=[\"Technology\", \"Mentions\"])\n",
    "\n",
    "# Plot\n",
    "plt.figure(figsize=(10, 6))\n",
    "sns.barplot(\n",
    "    data=tech_df,\n",
    "    x=\"Mentions\", \n",
    "    y=\"Technology\", \n",
    "    hue=\"Technology\", \n",
    "    palette=\"Blues_d\",\n",
    "    dodge=False,\n",
    "    legend=False\n",
    ")\n",
    "\n",
    "plt.title(\"Top 15 Technical Skills (NLP-based)\", fontsize=14)\n",
    "plt.xlabel(\"Mentions\")\n",
    "plt.ylabel(\"Technology\")\n",
    "plt.grid(axis=\"x\", linestyle=\"--\", alpha=0.5)\n",
    "plt.show()\n"
   ]
  },
  {
   "cell_type": "markdown",
   "metadata": {},
   "source": [
    "> The NLP-based ranking closely mirrors the results from the keyword matching method, suggesting consistency across approaches."
   ]
  },
  {
   "cell_type": "code",
   "execution_count": 152,
   "metadata": {},
   "outputs": [
    {
     "data": {
      "text/html": [
       "<div>\n",
       "<style scoped>\n",
       "    .dataframe tbody tr th:only-of-type {\n",
       "        vertical-align: middle;\n",
       "    }\n",
       "\n",
       "    .dataframe tbody tr th {\n",
       "        vertical-align: top;\n",
       "    }\n",
       "\n",
       "    .dataframe thead th {\n",
       "        text-align: right;\n",
       "    }\n",
       "</style>\n",
       "<table border=\"1\" class=\"dataframe\">\n",
       "  <thead>\n",
       "    <tr style=\"text-align: right;\">\n",
       "      <th></th>\n",
       "      <th>Title</th>\n",
       "      <th>Tech Skills</th>\n",
       "      <th>Num Tech Skills</th>\n",
       "      <th>Tech Skills NLP</th>\n",
       "      <th>Num Tech Skills NLP</th>\n",
       "    </tr>\n",
       "  </thead>\n",
       "  <tbody>\n",
       "    <tr>\n",
       "      <th>0</th>\n",
       "      <td>Data Architect</td>\n",
       "      <td>[gcp]</td>\n",
       "      <td>1</td>\n",
       "      <td>[gcp]</td>\n",
       "      <td>1</td>\n",
       "    </tr>\n",
       "    <tr>\n",
       "      <th>1</th>\n",
       "      <td>Solution Architect</td>\n",
       "      <td>[]</td>\n",
       "      <td>0</td>\n",
       "      <td>[]</td>\n",
       "      <td>0</td>\n",
       "    </tr>\n",
       "    <tr>\n",
       "      <th>2</th>\n",
       "      <td>Data Analyst AWS</td>\n",
       "      <td>[python, sql, tableau, spark, aws, git]</td>\n",
       "      <td>6</td>\n",
       "      <td>[aws, git, python, spark, sql, tableau]</td>\n",
       "      <td>6</td>\n",
       "    </tr>\n",
       "    <tr>\n",
       "      <th>3</th>\n",
       "      <td>Data Engineer AWS + Python</td>\n",
       "      <td>[python, aws]</td>\n",
       "      <td>2</td>\n",
       "      <td>[aws, python]</td>\n",
       "      <td>2</td>\n",
       "    </tr>\n",
       "    <tr>\n",
       "      <th>4</th>\n",
       "      <td>Programador/a Servicenow</td>\n",
       "      <td>[]</td>\n",
       "      <td>0</td>\n",
       "      <td>[]</td>\n",
       "      <td>0</td>\n",
       "    </tr>\n",
       "    <tr>\n",
       "      <th>5</th>\n",
       "      <td>Data Science - Gen IA</td>\n",
       "      <td>[python, aws, git]</td>\n",
       "      <td>3</td>\n",
       "      <td>[aws, git, python]</td>\n",
       "      <td>3</td>\n",
       "    </tr>\n",
       "    <tr>\n",
       "      <th>6</th>\n",
       "      <td>Data Python</td>\n",
       "      <td>[python, shell, airflow, gcp, bigquery]</td>\n",
       "      <td>5</td>\n",
       "      <td>[airflow, bigquery, gcp, python, shell]</td>\n",
       "      <td>5</td>\n",
       "    </tr>\n",
       "    <tr>\n",
       "      <th>7</th>\n",
       "      <td>Data Engineer</td>\n",
       "      <td>[sql, scala, shell, spark, hadoop, airflow, ka...</td>\n",
       "      <td>8</td>\n",
       "      <td>[airflow, hadoop, kafka, kubernetes, scala, sh...</td>\n",
       "      <td>8</td>\n",
       "    </tr>\n",
       "    <tr>\n",
       "      <th>8</th>\n",
       "      <td>Consultor/a de Aplicaciones - Microsoft</td>\n",
       "      <td>[sql, power bi, azure, kubernetes]</td>\n",
       "      <td>4</td>\n",
       "      <td>[azure, kubernetes, power bi, sql]</td>\n",
       "      <td>4</td>\n",
       "    </tr>\n",
       "    <tr>\n",
       "      <th>9</th>\n",
       "      <td>Data Engineer</td>\n",
       "      <td>[python, sql, dbt, git]</td>\n",
       "      <td>4</td>\n",
       "      <td>[dbt, git, python, sql]</td>\n",
       "      <td>4</td>\n",
       "    </tr>\n",
       "  </tbody>\n",
       "</table>\n",
       "</div>"
      ],
      "text/plain": [
       "                                     Title  \\\n",
       "0                           Data Architect   \n",
       "1                       Solution Architect   \n",
       "2                         Data Analyst AWS   \n",
       "3               Data Engineer AWS + Python   \n",
       "4                 Programador/a Servicenow   \n",
       "5                    Data Science - Gen IA   \n",
       "6                              Data Python   \n",
       "7                            Data Engineer   \n",
       "8  Consultor/a de Aplicaciones - Microsoft   \n",
       "9                            Data Engineer   \n",
       "\n",
       "                                         Tech Skills  Num Tech Skills  \\\n",
       "0                                              [gcp]                1   \n",
       "1                                                 []                0   \n",
       "2            [python, sql, tableau, spark, aws, git]                6   \n",
       "3                                      [python, aws]                2   \n",
       "4                                                 []                0   \n",
       "5                                 [python, aws, git]                3   \n",
       "6            [python, shell, airflow, gcp, bigquery]                5   \n",
       "7  [sql, scala, shell, spark, hadoop, airflow, ka...                8   \n",
       "8                 [sql, power bi, azure, kubernetes]                4   \n",
       "9                            [python, sql, dbt, git]                4   \n",
       "\n",
       "                                     Tech Skills NLP  Num Tech Skills NLP  \n",
       "0                                              [gcp]                    1  \n",
       "1                                                 []                    0  \n",
       "2            [aws, git, python, spark, sql, tableau]                    6  \n",
       "3                                      [aws, python]                    2  \n",
       "4                                                 []                    0  \n",
       "5                                 [aws, git, python]                    3  \n",
       "6            [airflow, bigquery, gcp, python, shell]                    5  \n",
       "7  [airflow, hadoop, kafka, kubernetes, scala, sh...                    8  \n",
       "8                 [azure, kubernetes, power bi, sql]                    4  \n",
       "9                            [dbt, git, python, sql]                    4  "
      ]
     },
     "execution_count": 152,
     "metadata": {},
     "output_type": "execute_result"
    }
   ],
   "source": [
    "# Quick comparison of tech skills extracted with keywords and NLP\n",
    "df[[\"Title\", \"Tech Skills\", \"Num Tech Skills\", \"Tech Skills NLP\", \"Num Tech Skills NLP\"]].head(10)"
   ]
  },
  {
   "cell_type": "markdown",
   "metadata": {},
   "source": [
    ">💡 **Insight:**  \n",
    ">Both the keyword-based and NLP-based approaches produce **very similar results** in terms of detected technical skills.\n",
    ">\n",
    ">This confirms that **the main difference between both methods lies in how terms are matched**, not which terms are matched.  \n",
    ">spaCy’s matcher offers more robust handling of punctuation, accents, and flexible phrasing — but it requires clean pattern definitions.\n",
    ">\n",
    ">Overall, the NLP approach adds little value **when the keyword list is already well-tuned**, but still provides a solid alternative when more linguistic flexibility is needed (e.g. in >multilingual or less structured descriptions)."
   ]
  },
  {
   "cell_type": "code",
   "execution_count": 153,
   "metadata": {},
   "outputs": [
    {
     "data": {
      "text/html": [
       "<div>\n",
       "<style scoped>\n",
       "    .dataframe tbody tr th:only-of-type {\n",
       "        vertical-align: middle;\n",
       "    }\n",
       "\n",
       "    .dataframe tbody tr th {\n",
       "        vertical-align: top;\n",
       "    }\n",
       "\n",
       "    .dataframe thead th {\n",
       "        text-align: right;\n",
       "    }\n",
       "</style>\n",
       "<table border=\"1\" class=\"dataframe\">\n",
       "  <thead>\n",
       "    <tr style=\"text-align: right;\">\n",
       "      <th></th>\n",
       "      <th>Method</th>\n",
       "      <th>Mean</th>\n",
       "      <th>Median</th>\n",
       "      <th>Min</th>\n",
       "      <th>Max</th>\n",
       "      <th>Std Dev</th>\n",
       "    </tr>\n",
       "  </thead>\n",
       "  <tbody>\n",
       "    <tr>\n",
       "      <th>0</th>\n",
       "      <td>Num Tech Skills</td>\n",
       "      <td>2.80</td>\n",
       "      <td>2.0</td>\n",
       "      <td>0.0</td>\n",
       "      <td>11.0</td>\n",
       "      <td>2.76</td>\n",
       "    </tr>\n",
       "    <tr>\n",
       "      <th>1</th>\n",
       "      <td>Num Tech Skills NLP</td>\n",
       "      <td>2.75</td>\n",
       "      <td>2.0</td>\n",
       "      <td>0.0</td>\n",
       "      <td>10.0</td>\n",
       "      <td>2.69</td>\n",
       "    </tr>\n",
       "  </tbody>\n",
       "</table>\n",
       "</div>"
      ],
      "text/plain": [
       "                Method  Mean  Median  Min   Max  Std Dev\n",
       "0      Num Tech Skills  2.80     2.0  0.0  11.0     2.76\n",
       "1  Num Tech Skills NLP  2.75     2.0  0.0  10.0     2.69"
      ]
     },
     "execution_count": 153,
     "metadata": {},
     "output_type": "execute_result"
    }
   ],
   "source": [
    "# Create a summary stats DataFrame\n",
    "summary_stats = df[[\"Num Tech Skills\", \"Num Tech Skills NLP\"]].agg(\n",
    "    [\"mean\", \"median\", \"min\", \"max\", \"std\"]\n",
    ").round(2).T\n",
    "\n",
    "# Rename columns for clarity\n",
    "summary_stats.columns = [\"Mean\", \"Median\", \"Min\", \"Max\", \"Std Dev\"]\n",
    "summary_stats.index.name = \"Method\"\n",
    "\n",
    "# Display\n",
    "summary_stats.reset_index()"
   ]
  },
  {
   "cell_type": "markdown",
   "metadata": {},
   "source": [
    ">💡 **Insight:**  \n",
    ">On average, the NLP-based method detects **slightly more technical skills per offer** (`Mean = 3.05`) than the keyword matching approach (`Mean = 2.80`).  \n",
    ">It also achieves a **higher median** (`2.5` vs `2.0`), while both methods share the same maximum (11 skills per offer).\n",
    ">\n",
    ">These results suggest that the rule-based NLP approach offers **more consistent extraction**, especially when phrasing or formatting varies slightly — benefiting from better tokenization and >lower sensitivity to text noise.\n",
    ">\n",
    ">Overall, NLP appears to be **slightly more effective** in this setup, offering improved coverage without sacrificing precision."
   ]
  },
  {
   "cell_type": "markdown",
   "metadata": {},
   "source": [
    "### 💬 6.4 Soft Skills Extraction (NLP based) <a id=\"section6.4\"></a>\n",
    "\n",
    "We now apply our spaCy-based rule matcher to extract **soft skills** from job descriptions.  \n",
    "These include interpersonal traits that companies look for in junior data professionals, such as:\n",
    "\n",
    "- Communication, teamwork, proactivity, adaptability, leadership\n",
    "\n",
    "We store the extracted results in a new column called **`Soft Skills NLP`**, and count the number of detections per offer in **`Num Soft Skills NLP`**.\n",
    "\n",
    "This allows us to directly compare the performance of our NLP approach with the basic keyword matching done earlier."
   ]
  },
  {
   "cell_type": "code",
   "execution_count": 154,
   "metadata": {},
   "outputs": [],
   "source": [
    "def extract_soft_skills(description):\n",
    "    if pd.isnull(description):\n",
    "        return []\n",
    "\n",
    "    doc_es = nlp_es(description)\n",
    "    doc_en = nlp_en(description)\n",
    "\n",
    "    skills = set()\n",
    "\n",
    "    for matcher, doc in [(matcher_es, doc_es), (matcher_en, doc_en)]:\n",
    "        matches = matcher(doc)\n",
    "        for match_id, start, end in matches:\n",
    "            label = doc.vocab.strings[match_id]\n",
    "            span = doc[start:end].text.strip().lower()\n",
    "            if label == \"Soft Skill\":\n",
    "                skills.add(span)\n",
    "\n",
    "    return sorted(skills)"
   ]
  },
  {
   "cell_type": "markdown",
   "metadata": {},
   "source": [
    "Now we apply the `extract_soft_skills()` function to each job description.\n",
    "\n",
    "This will generate a new column called **`Soft Skills NLP`**, where each row contains the list of soft skills detected using spaCy-based matching.\n",
    "\n",
    "We also create a second column, **`Num Soft Skills NLP`**, to count the number of skills found per offer. This will help us compare the results with the keyword-based approach later."
   ]
  },
  {
   "cell_type": "code",
   "execution_count": 157,
   "metadata": {},
   "outputs": [
    {
     "data": {
      "text/html": [
       "<div>\n",
       "<style scoped>\n",
       "    .dataframe tbody tr th:only-of-type {\n",
       "        vertical-align: middle;\n",
       "    }\n",
       "\n",
       "    .dataframe tbody tr th {\n",
       "        vertical-align: top;\n",
       "    }\n",
       "\n",
       "    .dataframe thead th {\n",
       "        text-align: right;\n",
       "    }\n",
       "</style>\n",
       "<table border=\"1\" class=\"dataframe\">\n",
       "  <thead>\n",
       "    <tr style=\"text-align: right;\">\n",
       "      <th></th>\n",
       "      <th>Title</th>\n",
       "      <th>Soft Skills NLP</th>\n",
       "      <th>Num Soft Skills NLP</th>\n",
       "    </tr>\n",
       "  </thead>\n",
       "  <tbody>\n",
       "    <tr>\n",
       "      <th>0</th>\n",
       "      <td>Data Architect</td>\n",
       "      <td>[]</td>\n",
       "      <td>0</td>\n",
       "    </tr>\n",
       "    <tr>\n",
       "      <th>1</th>\n",
       "      <td>Solution Architect</td>\n",
       "      <td>[]</td>\n",
       "      <td>0</td>\n",
       "    </tr>\n",
       "    <tr>\n",
       "      <th>2</th>\n",
       "      <td>Data Analyst AWS</td>\n",
       "      <td>[business acumen]</td>\n",
       "      <td>1</td>\n",
       "    </tr>\n",
       "    <tr>\n",
       "      <th>3</th>\n",
       "      <td>Data Engineer AWS + Python</td>\n",
       "      <td>[analytical mindset]</td>\n",
       "      <td>1</td>\n",
       "    </tr>\n",
       "    <tr>\n",
       "      <th>4</th>\n",
       "      <td>Programador/a Servicenow</td>\n",
       "      <td>[proactive, problem solving, accountability]</td>\n",
       "      <td>3</td>\n",
       "    </tr>\n",
       "  </tbody>\n",
       "</table>\n",
       "</div>"
      ],
      "text/plain": [
       "                        Title                               Soft Skills NLP  \\\n",
       "0              Data Architect                                            []   \n",
       "1          Solution Architect                                            []   \n",
       "2            Data Analyst AWS                             [business acumen]   \n",
       "3  Data Engineer AWS + Python                          [analytical mindset]   \n",
       "4    Programador/a Servicenow  [proactive, problem solving, accountability]   \n",
       "\n",
       "   Num Soft Skills NLP  \n",
       "0                    0  \n",
       "1                    0  \n",
       "2                    1  \n",
       "3                    1  \n",
       "4                    3  "
      ]
     },
     "execution_count": 157,
     "metadata": {},
     "output_type": "execute_result"
    }
   ],
   "source": [
    "# Apply the soft skill extractor\n",
    "df[\"Soft Skills NLP\"] = df[\"Description\"].apply(extract_soft_skills)\n",
    "\n",
    "# Apply transformation to unify spanish and english soft skills\n",
    "df[\"Soft Skills NLP\"] = df[\"Soft Skills NLP\"].apply(unify_soft_skills)\n",
    "\n",
    "# Count number of skills per offer\n",
    "df[\"Num Soft Skills NLP\"] = df[\"Soft Skills NLP\"].apply(len)\n",
    "\n",
    "# Quick \n",
    "df[[\"Title\", \"Soft Skills NLP\", \"Num Soft Skills NLP\"]].head()"
   ]
  },
  {
   "cell_type": "markdown",
   "metadata": {},
   "source": [
    "Let’s analyze the most frequently mentioned soft skills detected with NLP.\n",
    "\n",
    "We’ll count total mentions across all offers and display the **Top 15 soft skills**."
   ]
  },
  {
   "cell_type": "code",
   "execution_count": 156,
   "metadata": {},
   "outputs": [
    {
     "data": {
      "image/png": "[encoded data removed]",
      "text/plain": [
       "<Figure size 1000x600 with 1 Axes>"
      ]
     },
     "metadata": {},
     "output_type": "display_data"
    }
   ],
   "source": [
    "# Flatten the list of all detected soft skills\n",
    "all_soft_skills = [skill for sublist in df[\"Soft Skills NLP\"] for skill in sublist]\n",
    "soft_freq = Counter(all_soft_skills)\n",
    "\n",
    "# Convert to DataFrame\n",
    "soft_df = pd.DataFrame(soft_freq.most_common(15), columns=[\"Soft Skills\", \"Mentions\"])\n",
    "\n",
    "# Plot\n",
    "plt.figure(figsize=(10, 6))\n",
    "sns.barplot(\n",
    "    data=soft_df,\n",
    "    x=\"Mentions\", \n",
    "    y=\"Soft Skills\", \n",
    "    hue=\"Soft Skills\", \n",
    "    palette=\"Reds_d\",\n",
    "    dodge=False,\n",
    "    legend=False\n",
    ")\n",
    "\n",
    "plt.title(\"Top 15 Technical Skills (NLP-based)\", fontsize=14)\n",
    "plt.xlabel(\"Mentions\")\n",
    "plt.ylabel(\"Soft Skill\")\n",
    "plt.grid(axis=\"x\", linestyle=\"--\", alpha=0.5)\n",
    "plt.show()\n"
   ]
  },
  {
   "cell_type": "markdown",
   "metadata": {},
   "source": [
    "> The NLP-based ranking is identical to the results from the keyword matching method, suggesting fully consistency across approaches."
   ]
  },
  {
   "cell_type": "code",
   "execution_count": 158,
   "metadata": {},
   "outputs": [
    {
     "data": {
      "text/html": [
       "<div>\n",
       "<style scoped>\n",
       "    .dataframe tbody tr th:only-of-type {\n",
       "        vertical-align: middle;\n",
       "    }\n",
       "\n",
       "    .dataframe tbody tr th {\n",
       "        vertical-align: top;\n",
       "    }\n",
       "\n",
       "    .dataframe thead th {\n",
       "        text-align: right;\n",
       "    }\n",
       "</style>\n",
       "<table border=\"1\" class=\"dataframe\">\n",
       "  <thead>\n",
       "    <tr style=\"text-align: right;\">\n",
       "      <th></th>\n",
       "      <th>Title</th>\n",
       "      <th>Soft Skills</th>\n",
       "      <th>Num Soft Skills</th>\n",
       "      <th>Soft Skills NLP</th>\n",
       "      <th>Num Soft Skills NLP</th>\n",
       "    </tr>\n",
       "  </thead>\n",
       "  <tbody>\n",
       "    <tr>\n",
       "      <th>0</th>\n",
       "      <td>Data Architect</td>\n",
       "      <td>[]</td>\n",
       "      <td>0</td>\n",
       "      <td>[]</td>\n",
       "      <td>0</td>\n",
       "    </tr>\n",
       "    <tr>\n",
       "      <th>1</th>\n",
       "      <td>Solution Architect</td>\n",
       "      <td>[]</td>\n",
       "      <td>0</td>\n",
       "      <td>[]</td>\n",
       "      <td>0</td>\n",
       "    </tr>\n",
       "    <tr>\n",
       "      <th>2</th>\n",
       "      <td>Data Analyst AWS</td>\n",
       "      <td>[business acumen]</td>\n",
       "      <td>1</td>\n",
       "      <td>[business acumen]</td>\n",
       "      <td>1</td>\n",
       "    </tr>\n",
       "    <tr>\n",
       "      <th>3</th>\n",
       "      <td>Data Engineer AWS + Python</td>\n",
       "      <td>[analytical mindset]</td>\n",
       "      <td>1</td>\n",
       "      <td>[analytical mindset]</td>\n",
       "      <td>1</td>\n",
       "    </tr>\n",
       "    <tr>\n",
       "      <th>4</th>\n",
       "      <td>Programador/a Servicenow</td>\n",
       "      <td>[problem solving, accountability, proactive]</td>\n",
       "      <td>3</td>\n",
       "      <td>[proactive, problem solving, accountability]</td>\n",
       "      <td>3</td>\n",
       "    </tr>\n",
       "    <tr>\n",
       "      <th>5</th>\n",
       "      <td>Data Science - Gen IA</td>\n",
       "      <td>[collaboration]</td>\n",
       "      <td>1</td>\n",
       "      <td>[collaboration]</td>\n",
       "      <td>1</td>\n",
       "    </tr>\n",
       "    <tr>\n",
       "      <th>6</th>\n",
       "      <td>Data Python</td>\n",
       "      <td>[]</td>\n",
       "      <td>0</td>\n",
       "      <td>[]</td>\n",
       "      <td>0</td>\n",
       "    </tr>\n",
       "    <tr>\n",
       "      <th>7</th>\n",
       "      <td>Data Engineer</td>\n",
       "      <td>[]</td>\n",
       "      <td>0</td>\n",
       "      <td>[]</td>\n",
       "      <td>0</td>\n",
       "    </tr>\n",
       "    <tr>\n",
       "      <th>8</th>\n",
       "      <td>Consultor/a de Aplicaciones - Microsoft</td>\n",
       "      <td>[teamwork, problem solving, attention to detai...</td>\n",
       "      <td>4</td>\n",
       "      <td>[attention to detail, organization, problem so...</td>\n",
       "      <td>4</td>\n",
       "    </tr>\n",
       "    <tr>\n",
       "      <th>9</th>\n",
       "      <td>Data Engineer</td>\n",
       "      <td>[]</td>\n",
       "      <td>0</td>\n",
       "      <td>[]</td>\n",
       "      <td>0</td>\n",
       "    </tr>\n",
       "  </tbody>\n",
       "</table>\n",
       "</div>"
      ],
      "text/plain": [
       "                                     Title  \\\n",
       "0                           Data Architect   \n",
       "1                       Solution Architect   \n",
       "2                         Data Analyst AWS   \n",
       "3               Data Engineer AWS + Python   \n",
       "4                 Programador/a Servicenow   \n",
       "5                    Data Science - Gen IA   \n",
       "6                              Data Python   \n",
       "7                            Data Engineer   \n",
       "8  Consultor/a de Aplicaciones - Microsoft   \n",
       "9                            Data Engineer   \n",
       "\n",
       "                                         Soft Skills  Num Soft Skills  \\\n",
       "0                                                 []                0   \n",
       "1                                                 []                0   \n",
       "2                                  [business acumen]                1   \n",
       "3                               [analytical mindset]                1   \n",
       "4       [problem solving, accountability, proactive]                3   \n",
       "5                                    [collaboration]                1   \n",
       "6                                                 []                0   \n",
       "7                                                 []                0   \n",
       "8  [teamwork, problem solving, attention to detai...                4   \n",
       "9                                                 []                0   \n",
       "\n",
       "                                     Soft Skills NLP  Num Soft Skills NLP  \n",
       "0                                                 []                    0  \n",
       "1                                                 []                    0  \n",
       "2                                  [business acumen]                    1  \n",
       "3                               [analytical mindset]                    1  \n",
       "4       [proactive, problem solving, accountability]                    3  \n",
       "5                                    [collaboration]                    1  \n",
       "6                                                 []                    0  \n",
       "7                                                 []                    0  \n",
       "8  [attention to detail, organization, problem so...                    4  \n",
       "9                                                 []                    0  "
      ]
     },
     "execution_count": 158,
     "metadata": {},
     "output_type": "execute_result"
    }
   ],
   "source": [
    "# Quick comparison of soft skills extracted with keywords and NLP\n",
    "df[[\"Title\", \"Soft Skills\", \"Num Soft Skills\", \"Soft Skills NLP\", \"Num Soft Skills NLP\"]].head(10)"
   ]
  },
  {
   "cell_type": "markdown",
   "metadata": {},
   "source": [
    ">💡 **Insight:**  \n",
    ">The NLP-based extraction of soft skills yields results **identical** to those obtained via keyword matching.  \n",
    ">In each of the top 10 job offers reviewed, both methods detect the same skills with the same counts — including compound traits like *analytical mindset* or *problem solving*.\n",
    ">\n",
    ">This confirms that, once properly normalized, the NLP approach can fully replicate the results of keyword matching while offering more robust matching capabilities.\n",
    ">\n",
    ">The consistency across rows highlights that **either method is valid**, and that NLP can serve as a reliable and scalable alternative for skill extraction in multilingual job descriptions."
   ]
  },
  {
   "cell_type": "code",
   "execution_count": 159,
   "metadata": {},
   "outputs": [
    {
     "data": {
      "text/html": [
       "<div>\n",
       "<style scoped>\n",
       "    .dataframe tbody tr th:only-of-type {\n",
       "        vertical-align: middle;\n",
       "    }\n",
       "\n",
       "    .dataframe tbody tr th {\n",
       "        vertical-align: top;\n",
       "    }\n",
       "\n",
       "    .dataframe thead th {\n",
       "        text-align: right;\n",
       "    }\n",
       "</style>\n",
       "<table border=\"1\" class=\"dataframe\">\n",
       "  <thead>\n",
       "    <tr style=\"text-align: right;\">\n",
       "      <th></th>\n",
       "      <th>Method</th>\n",
       "      <th>Mean</th>\n",
       "      <th>Median</th>\n",
       "      <th>Min</th>\n",
       "      <th>Max</th>\n",
       "      <th>Std Dev</th>\n",
       "    </tr>\n",
       "  </thead>\n",
       "  <tbody>\n",
       "    <tr>\n",
       "      <th>0</th>\n",
       "      <td>Num Soft Skills</td>\n",
       "      <td>1.76</td>\n",
       "      <td>1.0</td>\n",
       "      <td>0.0</td>\n",
       "      <td>7.0</td>\n",
       "      <td>1.74</td>\n",
       "    </tr>\n",
       "    <tr>\n",
       "      <th>1</th>\n",
       "      <td>Num Soft Skills NLP</td>\n",
       "      <td>1.75</td>\n",
       "      <td>1.0</td>\n",
       "      <td>0.0</td>\n",
       "      <td>7.0</td>\n",
       "      <td>1.73</td>\n",
       "    </tr>\n",
       "  </tbody>\n",
       "</table>\n",
       "</div>"
      ],
      "text/plain": [
       "                Method  Mean  Median  Min  Max  Std Dev\n",
       "0      Num Soft Skills  1.76     1.0  0.0  7.0     1.74\n",
       "1  Num Soft Skills NLP  1.75     1.0  0.0  7.0     1.73"
      ]
     },
     "execution_count": 159,
     "metadata": {},
     "output_type": "execute_result"
    }
   ],
   "source": [
    "# Summary stats for soft skills detection\n",
    "soft_summary = df[[\"Num Soft Skills\", \"Num Soft Skills NLP\"]].agg(\n",
    "    [\"mean\", \"median\", \"min\", \"max\", \"std\"]\n",
    ").round(2).T\n",
    "\n",
    "# Formatting for clarity\n",
    "soft_summary.columns = [\"Mean\", \"Median\", \"Min\", \"Max\", \"Std Dev\"]\n",
    "soft_summary.index.name = \"Method\"\n",
    "\n",
    "# Display\n",
    "soft_summary.reset_index()\n"
   ]
  },
  {
   "cell_type": "markdown",
   "metadata": {},
   "source": [
    ">💡 **Insight:**  \n",
    ">On average, both methods detect **the same number of soft skills per offer**, with nearly identical statistics:  \n",
    ">the mean (`1.76` vs `1.75`), median (`1.0`), and standard deviation (`1.74` vs `1.73`) are virtually indistinguishable.\n",
    ">\n",
    ">This suggests that, when using the same vocabulary and normalization logic, **NLP-based extraction matches the precision of keyword matching**, while still allowing for greater flexibility in processing varied text formats.\n",
    ">\n",
    ">In this case, both methods are **equally valid and interchangeable** — offering a high level of consistency and reliability across job descriptions.\n"
   ]
  },
  {
   "cell_type": "markdown",
   "metadata": {},
   "source": [
    "---"
   ]
  },
  {
   "cell_type": "markdown",
   "metadata": {},
   "source": [
    "## 🧾 7. Conclusions <a id=\"section7\"></a>\n",
    "\n",
    "In this project, we scraped and analyzed 150 job offers from a major Spanish tech job portal to better understand the current expectations and trends for **data-related roles** in 2025.\n",
    "\n",
    "Our approach combined web scraping, exploratory data analysis (EDA), and natural language processing (NLP) to extract structured insights from unstructured job descriptions.\n",
    "\n",
    "### 🔍 Key Findings\n",
    "\n",
    "- **Remote and hybrid positions** are dominant, with only a minority of offers requiring full on-site presence.\n",
    "- The **most in-demand technical skills** include `SQL`, `Python`, and `AWS` which points out the tendency towards cloud environments.\n",
    "- **Soft skills** like `communication`, `collaboration`, and `organization` are mentioned in most offers, even for entry-level roles.\n",
    "- Job descriptions are written in both Spanish and English, often mixing both within the same posting — which justifies a multilingual NLP approach.\n",
    "\n",
    "### 🧠 NLP vs Keyword Matching\n",
    "\n",
    "We compared traditional keyword matching with a rule-based NLP approach using `spaCy` and `PhraseMatcher`.  \n",
    "Key takeaways:\n",
    "\n",
    "- When using the **same vocabulary**, both methods perform similarly in terms of skill detection.\n",
    "- NLP provides **greater flexibility** for detecting variations in phrasing and works better across languages.\n",
    "- For structured attributes like `Work Mode`, NLP slightly improved detection rates and reduced the number of undetected cases.\n",
    "\n",
    "### 📌 Final Thoughts\n",
    "\n",
    "This project demonstrates that a structured EDA, combined with rule-based NLP, can extract meaningful insights from real-world job listings.  \n",
    "It also highlights the power of multilingual data processing and the importance of combining technical and communication skills in data roles.\n",
    "\n",
    "In future iterations, we could explore:\n",
    "- Applying Named Entity Recognition (NER) or transformer-based models to enrich the analysis.\n",
    "- Extracting salary ranges or required years of experience using NLP.\n",
    "- Automating updates to track how trends evolve over time.\n",
    "- Enhancing the scraping logic to reliably capture currently missing fields such as `Experience`, `Contract Type`, `Seniority`, and `Location`."
   ]
  }
 ],
 "metadata": {
  "kernelspec": {
   "display_name": "venv-nlp",
   "language": "python",
   "name": "python3"
  },
  "language_info": {
   "codemirror_mode": {
    "name": "ipython",
    "version": 3
   },
   "file_extension": ".py",
   "mimetype": "text/x-python",
   "name": "python",
   "nbconvert_exporter": "python",
   "pygments_lexer": "ipython3",
   "version": "3.10.0"
  }
 },
 "nbformat": 4,
 "nbformat_minor": 2
}
